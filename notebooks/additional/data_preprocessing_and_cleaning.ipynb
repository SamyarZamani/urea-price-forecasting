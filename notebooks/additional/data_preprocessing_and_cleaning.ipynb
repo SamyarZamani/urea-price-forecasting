{
  "nbformat": 4,
  "nbformat_minor": 0,
  "metadata": {
    "colab": {
      "provenance": []
    },
    "kernelspec": {
      "name": "python3",
      "display_name": "Python 3"
    },
    "language_info": {
      "name": "python"
    }
  },
  "cells": [
    {
      "cell_type": "code",
      "source": [
        "# =========================================\n",
        "# Data Loading & Cleaning (Ready for Delivery)\n",
        "# =========================================\n",
        "\n",
        "import pandas as pd\n",
        "\n",
        "# ===== 1) فایل‌ها =====\n",
        "files = {\n",
        "    \"urea\": \"urea.csv\",\n",
        "    \"gas\": \"gas.csv\",\n",
        "    \"wheat\": \"wheat.csv\"\n",
        "}\n",
        "\n",
        "cleaned_data = {}\n",
        "\n",
        "for name, path in files.items():\n",
        "    print(f\"\\n--- Processing {name} ---\")\n",
        "\n",
        "    # ===== 2) لود داده =====\n",
        "    df = pd.read_csv(path)\n",
        "    print(f\"Initial shape of {name}: {df.shape}\")\n",
        "\n",
        "    # ===== 3) تبدیل تاریخ =====\n",
        "    if \"Date\" in df.columns:\n",
        "        df[\"Date\"] = pd.to_datetime(df[\"Date\"], errors=\"coerce\")\n",
        "        # مرتب‌سازی بر اساس تاریخ\n",
        "        df = df.sort_values(\"Date\")\n",
        "    else:\n",
        "        print(f\"Note: {name} has no 'Date' column.\")\n",
        "\n",
        "    # ===== 4) حذف مقادیر خالی =====\n",
        "    df = df.dropna()\n",
        "\n",
        "    # ===== 5) تغییر نام ستون قیمت =====\n",
        "    if \"Price\" in df.columns:\n",
        "        df = df.rename(columns={\"Price\": f\"{name}_price\"})\n",
        "    else:\n",
        "        print(f\"Note: {name} has no 'Price' column.\")\n",
        "\n",
        "    # ذخیره در دیکشنری\n",
        "    cleaned_data[name] = df\n",
        "\n",
        "    # نمایش نمونه از داده‌ها\n",
        "    print(df.head(3))  # نمایش ۳ ردیف اول برای نمونه\n",
        "\n",
        "# ===== 6) ذخیره فایل‌های پاکسازی‌شده =====\n",
        "for name, df in cleaned_data.items():\n",
        "    cleaned_file = f\"{name}_clean.csv\"\n",
        "    df.to_csv(cleaned_file, index=False)\n",
        "    print(f\"Saved cleaned {name} → {cleaned_file}\")\n",
        "\n",
        "print(\"\\nAll datasets have been cleaned and saved. ✅\")\n"
      ],
      "metadata": {
        "id": "2uCnp4VAbFeg"
      },
      "execution_count": null,
      "outputs": []
    }
  ]
}