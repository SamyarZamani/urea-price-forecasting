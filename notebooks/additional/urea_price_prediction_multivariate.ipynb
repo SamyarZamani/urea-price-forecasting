{
  "nbformat": 4,
  "nbformat_minor": 0,
  "metadata": {
    "colab": {
      "provenance": []
    },
    "kernelspec": {
      "name": "python3",
      "display_name": "Python 3"
    },
    "language_info": {
      "name": "python"
    }
  },
  "cells": [
    {
      "cell_type": "code",
      "source": [
        "import pandas as pd\n",
        "from google.colab import files\n",
        "from functools import reduce\n",
        "\n",
        "# انتخاب فایل‌ها از حافظه محلی\n",
        "uploaded = files.upload()\n",
        "\n",
        "dfs = []\n",
        "for filename in uploaded.keys():\n",
        "    if filename.endswith(\".csv\"):\n",
        "        df = pd.read_csv(filename)\n",
        "    elif filename.endswith(\".xlsx\"):\n",
        "        df = pd.read_excel(filename)\n",
        "    else:\n",
        "        print(f\"فرمت {filename} پشتیبانی نمی‌شود!\")\n",
        "        continue\n",
        "\n",
        "    print(f\"{filename}: {df.shape} ردیف و ستون\")\n",
        "    print(df.head(), \"\\n\")\n",
        "\n",
        "    # پیدا کردن ستون تاریخ احتمالی\n",
        "    date_col = [c for c in df.columns if 'date' in c.lower()]\n",
        "    if date_col:\n",
        "        df[date_col[0]] = pd.to_datetime(df[date_col[0]])\n",
        "        df = df.rename(columns={date_col[0]:'Date'})\n",
        "    else:\n",
        "        print(f\"{filename} ستونی شبیه تاریخ نداره!\")\n",
        "\n",
        "    dfs.append(df)\n",
        "\n",
        "# فقط دیتاهای دارای ستون Date رو نگه می‌داریم\n",
        "dfs = [df for df in dfs if 'Date' in df.columns]\n",
        "\n",
        "# هم‌تراز کردن همه دیتاها به ماهانه\n",
        "for i in range(len(dfs)):\n",
        "    dfs[i] = dfs[i].set_index('Date').resample('M').mean().reset_index()\n",
        "\n",
        "# Merge همه دیتاها روی ستون Date\n",
        "if dfs:\n",
        "    final_df = reduce(lambda left, right: pd.merge(left, right, on='Date', how='outer'), dfs)\n",
        "    print(\"Shape دیتاست نهایی:\", final_df.shape)\n",
        "    print(final_df.head())\n",
        "    print(\"\\nNaN ها در هر ستون:\\n\", final_df.isna().sum())\n",
        "else:\n",
        "    print(\"هیچ دیتافریمی با ستون Date پیدا نشد!\")\n"
      ],
      "metadata": {
        "colab": {
          "base_uri": "https://localhost:8080/",
          "height": 1000
        },
        "id": "BfRcwSM67jTu",
        "outputId": "3bf92455-1d3a-4a1e-d38b-240da62c62fc"
      },
      "execution_count": null,
      "outputs": [
        {
          "output_type": "display_data",
          "data": {
            "text/plain": [
              "<IPython.core.display.HTML object>"
            ],
            "text/html": [
              "\n",
              "     <input type=\"file\" id=\"files-eb917113-1adb-4db1-bcc0-44cf711fd1cc\" name=\"files[]\" multiple disabled\n",
              "        style=\"border:none\" />\n",
              "     <output id=\"result-eb917113-1adb-4db1-bcc0-44cf711fd1cc\">\n",
              "      Upload widget is only available when the cell has been executed in the\n",
              "      current browser session. Please rerun this cell to enable.\n",
              "      </output>\n",
              "      <script>// Copyright 2017 Google LLC\n",
              "//\n",
              "// Licensed under the Apache License, Version 2.0 (the \"License\");\n",
              "// you may not use this file except in compliance with the License.\n",
              "// You may obtain a copy of the License at\n",
              "//\n",
              "//      http://www.apache.org/licenses/LICENSE-2.0\n",
              "//\n",
              "// Unless required by applicable law or agreed to in writing, software\n",
              "// distributed under the License is distributed on an \"AS IS\" BASIS,\n",
              "// WITHOUT WARRANTIES OR CONDITIONS OF ANY KIND, either express or implied.\n",
              "// See the License for the specific language governing permissions and\n",
              "// limitations under the License.\n",
              "\n",
              "/**\n",
              " * @fileoverview Helpers for google.colab Python module.\n",
              " */\n",
              "(function(scope) {\n",
              "function span(text, styleAttributes = {}) {\n",
              "  const element = document.createElement('span');\n",
              "  element.textContent = text;\n",
              "  for (const key of Object.keys(styleAttributes)) {\n",
              "    element.style[key] = styleAttributes[key];\n",
              "  }\n",
              "  return element;\n",
              "}\n",
              "\n",
              "// Max number of bytes which will be uploaded at a time.\n",
              "const MAX_PAYLOAD_SIZE = 100 * 1024;\n",
              "\n",
              "function _uploadFiles(inputId, outputId) {\n",
              "  const steps = uploadFilesStep(inputId, outputId);\n",
              "  const outputElement = document.getElementById(outputId);\n",
              "  // Cache steps on the outputElement to make it available for the next call\n",
              "  // to uploadFilesContinue from Python.\n",
              "  outputElement.steps = steps;\n",
              "\n",
              "  return _uploadFilesContinue(outputId);\n",
              "}\n",
              "\n",
              "// This is roughly an async generator (not supported in the browser yet),\n",
              "// where there are multiple asynchronous steps and the Python side is going\n",
              "// to poll for completion of each step.\n",
              "// This uses a Promise to block the python side on completion of each step,\n",
              "// then passes the result of the previous step as the input to the next step.\n",
              "function _uploadFilesContinue(outputId) {\n",
              "  const outputElement = document.getElementById(outputId);\n",
              "  const steps = outputElement.steps;\n",
              "\n",
              "  const next = steps.next(outputElement.lastPromiseValue);\n",
              "  return Promise.resolve(next.value.promise).then((value) => {\n",
              "    // Cache the last promise value to make it available to the next\n",
              "    // step of the generator.\n",
              "    outputElement.lastPromiseValue = value;\n",
              "    return next.value.response;\n",
              "  });\n",
              "}\n",
              "\n",
              "/**\n",
              " * Generator function which is called between each async step of the upload\n",
              " * process.\n",
              " * @param {string} inputId Element ID of the input file picker element.\n",
              " * @param {string} outputId Element ID of the output display.\n",
              " * @return {!Iterable<!Object>} Iterable of next steps.\n",
              " */\n",
              "function* uploadFilesStep(inputId, outputId) {\n",
              "  const inputElement = document.getElementById(inputId);\n",
              "  inputElement.disabled = false;\n",
              "\n",
              "  const outputElement = document.getElementById(outputId);\n",
              "  outputElement.innerHTML = '';\n",
              "\n",
              "  const pickedPromise = new Promise((resolve) => {\n",
              "    inputElement.addEventListener('change', (e) => {\n",
              "      resolve(e.target.files);\n",
              "    });\n",
              "  });\n",
              "\n",
              "  const cancel = document.createElement('button');\n",
              "  inputElement.parentElement.appendChild(cancel);\n",
              "  cancel.textContent = 'Cancel upload';\n",
              "  const cancelPromise = new Promise((resolve) => {\n",
              "    cancel.onclick = () => {\n",
              "      resolve(null);\n",
              "    };\n",
              "  });\n",
              "\n",
              "  // Wait for the user to pick the files.\n",
              "  const files = yield {\n",
              "    promise: Promise.race([pickedPromise, cancelPromise]),\n",
              "    response: {\n",
              "      action: 'starting',\n",
              "    }\n",
              "  };\n",
              "\n",
              "  cancel.remove();\n",
              "\n",
              "  // Disable the input element since further picks are not allowed.\n",
              "  inputElement.disabled = true;\n",
              "\n",
              "  if (!files) {\n",
              "    return {\n",
              "      response: {\n",
              "        action: 'complete',\n",
              "      }\n",
              "    };\n",
              "  }\n",
              "\n",
              "  for (const file of files) {\n",
              "    const li = document.createElement('li');\n",
              "    li.append(span(file.name, {fontWeight: 'bold'}));\n",
              "    li.append(span(\n",
              "        `(${file.type || 'n/a'}) - ${file.size} bytes, ` +\n",
              "        `last modified: ${\n",
              "            file.lastModifiedDate ? file.lastModifiedDate.toLocaleDateString() :\n",
              "                                    'n/a'} - `));\n",
              "    const percent = span('0% done');\n",
              "    li.appendChild(percent);\n",
              "\n",
              "    outputElement.appendChild(li);\n",
              "\n",
              "    const fileDataPromise = new Promise((resolve) => {\n",
              "      const reader = new FileReader();\n",
              "      reader.onload = (e) => {\n",
              "        resolve(e.target.result);\n",
              "      };\n",
              "      reader.readAsArrayBuffer(file);\n",
              "    });\n",
              "    // Wait for the data to be ready.\n",
              "    let fileData = yield {\n",
              "      promise: fileDataPromise,\n",
              "      response: {\n",
              "        action: 'continue',\n",
              "      }\n",
              "    };\n",
              "\n",
              "    // Use a chunked sending to avoid message size limits. See b/62115660.\n",
              "    let position = 0;\n",
              "    do {\n",
              "      const length = Math.min(fileData.byteLength - position, MAX_PAYLOAD_SIZE);\n",
              "      const chunk = new Uint8Array(fileData, position, length);\n",
              "      position += length;\n",
              "\n",
              "      const base64 = btoa(String.fromCharCode.apply(null, chunk));\n",
              "      yield {\n",
              "        response: {\n",
              "          action: 'append',\n",
              "          file: file.name,\n",
              "          data: base64,\n",
              "        },\n",
              "      };\n",
              "\n",
              "      let percentDone = fileData.byteLength === 0 ?\n",
              "          100 :\n",
              "          Math.round((position / fileData.byteLength) * 100);\n",
              "      percent.textContent = `${percentDone}% done`;\n",
              "\n",
              "    } while (position < fileData.byteLength);\n",
              "  }\n",
              "\n",
              "  // All done.\n",
              "  yield {\n",
              "    response: {\n",
              "      action: 'complete',\n",
              "    }\n",
              "  };\n",
              "}\n",
              "\n",
              "scope.google = scope.google || {};\n",
              "scope.google.colab = scope.google.colab || {};\n",
              "scope.google.colab._files = {\n",
              "  _uploadFiles,\n",
              "  _uploadFilesContinue,\n",
              "};\n",
              "})(self);\n",
              "</script> "
            ]
          },
          "metadata": {}
        },
        {
          "output_type": "stream",
          "name": "stdout",
          "text": [
            "Saving CMO Monthly.xlsx to CMO Monthly (3).xlsx\n",
            "Saving CMOHistoricalDataMonthly (1).xlsx to CMOHistoricalDataMonthly (1) (3).xlsx\n",
            "Saving urea_regional_multivariate_2000_2025 (2).csv to urea_regional_multivariate_2000_2025 (2) (3).csv\n",
            "Saving weekly Henry_Hub_Natural_Gas_Spot_Price.csv to weekly Henry_Hub_Natural_Gas_Spot_Price (3).csv\n",
            "Saving Weekly_Europe_Brent oil_Spot_Price_FOB.csv to Weekly_Europe_Brent oil_Spot_Price_FOB (3).csv\n",
            "CMO Monthly (3).xlsx: (0, 0) ردیف و ستون\n",
            "Empty DataFrame\n",
            "Columns: []\n",
            "Index: [] \n",
            "\n",
            "CMO Monthly (3).xlsx ستونی شبیه تاریخ نداره!\n",
            "CMOHistoricalDataMonthly (1) (3).xlsx: (0, 0) ردیف و ستون\n",
            "Empty DataFrame\n",
            "Columns: []\n",
            "Index: [] \n",
            "\n",
            "CMOHistoricalDataMonthly (1) (3).xlsx ستونی شبیه تاریخ نداره!\n",
            "urea_regional_multivariate_2000_2025 (2) (3).csv: (308, 11) ردیف و ستون\n",
            "         Date  Urea_Global  Urea_PersianGulf  Urea_BlackSea  Urea_China  \\\n",
            "0  2000-01-01        202.2             175.6          203.6       184.0   \n",
            "1  2000-02-01        178.4             196.3          180.5       198.2   \n",
            "2  2000-03-01        213.0             213.9          200.4       183.9   \n",
            "3  2000-04-01        225.8             202.1          224.8       244.3   \n",
            "4  2000-05-01        230.7             203.1          207.6       234.6   \n",
            "\n",
            "   Urea_US_Gulf  NaturalGas  CrudeOil_Brent   Corn  Wheat  Soybeans  \n",
            "0         231.4        2.47            25.9   66.2  129.6     189.9  \n",
            "1         191.9        3.70            31.8  118.3  100.2     134.6  \n",
            "2         245.2        2.99            40.1  121.4   99.7     228.6  \n",
            "3         208.6        2.28            45.4  119.4  160.4     204.9  \n",
            "4         233.0        3.16            51.8  148.6  135.6     214.6   \n",
            "\n",
            "weekly Henry_Hub_Natural_Gas_Spot_Price (3).csv: (1499, 2) ردیف و ستون\n",
            "                Henry Hub Natural Gas Spot Price  \\\n",
            "0  https://www.eia.gov/dnav/ng/hist/rngwhhdW.htm   \n",
            "1         11:18:51 GMT+0330 (Iran Standard Time)   \n",
            "2                   Data Source: Thomson Reuters   \n",
            "3                                        Week of   \n",
            "4                                       9/5/2025   \n",
            "\n",
            "                                          Unnamed: 1  \n",
            "0                                                NaN  \n",
            "1                                                NaN  \n",
            "2                                                NaN  \n",
            "3  Henry Hub Natural Gas Spot Price Dollars per M...  \n",
            "4                                               2.97   \n",
            "\n",
            "weekly Henry_Hub_Natural_Gas_Spot_Price (3).csv ستونی شبیه تاریخ نداره!\n",
            "Weekly_Europe_Brent oil_Spot_Price_FOB (3).csv: (2004, 2) ردیف و ستون\n",
            "                  Weekly Europe Brent Spot Price FOB  \\\n",
            "0  https://www.eia.gov/dnav/pet/hist/LeafHandler....   \n",
            "1             11:21:12 GMT+0330 (Iran Standard Time)   \n",
            "2                       Data Source: Thomson Reuters   \n",
            "3                                            Week of   \n",
            "4                                           9/5/2025   \n",
            "\n",
            "                                          Unnamed: 1  \n",
            "0                                                NaN  \n",
            "1                                                NaN  \n",
            "2                                                NaN  \n",
            "3  Weekly Europe Brent Spot Price FOB Dollars per...  \n",
            "4                                              66.85   \n",
            "\n",
            "Weekly_Europe_Brent oil_Spot_Price_FOB (3).csv ستونی شبیه تاریخ نداره!\n",
            "Shape دیتاست نهایی: (308, 11)\n",
            "        Date  Urea_Global  Urea_PersianGulf  Urea_BlackSea  Urea_China  \\\n",
            "0 2000-01-31        202.2             175.6          203.6       184.0   \n",
            "1 2000-02-29        178.4             196.3          180.5       198.2   \n",
            "2 2000-03-31        213.0             213.9          200.4       183.9   \n",
            "3 2000-04-30        225.8             202.1          224.8       244.3   \n",
            "4 2000-05-31        230.7             203.1          207.6       234.6   \n",
            "\n",
            "   Urea_US_Gulf  NaturalGas  CrudeOil_Brent   Corn  Wheat  Soybeans  \n",
            "0         231.4        2.47            25.9   66.2  129.6     189.9  \n",
            "1         191.9        3.70            31.8  118.3  100.2     134.6  \n",
            "2         245.2        2.99            40.1  121.4   99.7     228.6  \n",
            "3         208.6        2.28            45.4  119.4  160.4     204.9  \n",
            "4         233.0        3.16            51.8  148.6  135.6     214.6  \n",
            "\n",
            "NaN ها در هر ستون:\n",
            " Date                0\n",
            "Urea_Global         0\n",
            "Urea_PersianGulf    0\n",
            "Urea_BlackSea       0\n",
            "Urea_China          0\n",
            "Urea_US_Gulf        0\n",
            "NaturalGas          0\n",
            "CrudeOil_Brent      0\n",
            "Corn                0\n",
            "Wheat               0\n",
            "Soybeans            0\n",
            "dtype: int64\n"
          ]
        },
        {
          "output_type": "stream",
          "name": "stderr",
          "text": [
            "/tmp/ipython-input-3418710236.py:36: FutureWarning: 'M' is deprecated and will be removed in a future version, please use 'ME' instead.\n",
            "  dfs[i] = dfs[i].set_index('Date').resample('M').mean().reset_index()\n"
          ]
        }
      ]
    },
    {
      "cell_type": "code",
      "source": [
        "# درصد نال هر ستون\n",
        "nan_ratio = final_df.isna().mean()\n",
        "print(\"درصد NaN در هر ستون:\\n\", nan_ratio)\n",
        "\n",
        "# آستانه برای حذف ستون‌ها، مثلا 20%\n",
        "threshold = 0.2\n",
        "\n",
        "# ستون‌هایی که بالاتر از threshold هستن حذف میشن\n",
        "cols_to_drop = nan_ratio[nan_ratio > threshold].index\n",
        "print(\"ستون‌های حذف شده به دلیل NaN زیاد:\", cols_to_drop.tolist())\n",
        "\n",
        "# حذف ستون‌ها\n",
        "final_df = final_df.drop(columns=cols_to_drop)\n",
        "\n",
        "# پر کردن NaN باقی‌مانده با میانگین یا 0\n",
        "final_df = final_df.fillna(final_df.mean())\n"
      ],
      "metadata": {
        "colab": {
          "base_uri": "https://localhost:8080/"
        },
        "id": "vfseuHwR0ItI",
        "outputId": "54d57be2-bf83-4b85-b21d-fb55377e14af"
      },
      "execution_count": null,
      "outputs": [
        {
          "output_type": "stream",
          "name": "stdout",
          "text": [
            "درصد NaN در هر ستون:\n",
            " Date                0.0\n",
            "Urea_Global         0.0\n",
            "Urea_PersianGulf    0.0\n",
            "Urea_BlackSea       0.0\n",
            "Urea_China          0.0\n",
            "Urea_US_Gulf        0.0\n",
            "NaturalGas          0.0\n",
            "CrudeOil_Brent      0.0\n",
            "Corn                0.0\n",
            "Wheat               0.0\n",
            "Soybeans            0.0\n",
            "dtype: float64\n",
            "ستون‌های حذف شده به دلیل NaN زیاد: []\n"
          ]
        }
      ]
    },
    {
      "cell_type": "code",
      "source": [
        "import pandas as pd\n",
        "from sklearn.preprocessing import MinMaxScaler\n",
        "from sklearn.model_selection import train_test_split\n",
        "import numpy as np\n",
        "\n",
        "# --- داده‌ها ---\n",
        "# فرض: final_df آماده و بدون NaN هست\n",
        "target = 'Urea_Global'\n",
        "features = ['Urea_PersianGulf', 'Urea_BlackSea', 'Urea_China',\n",
        "            'Urea_US_Gulf', 'NaturalGas', 'CrudeOil_Brent',\n",
        "            'Corn', 'Wheat', 'Soybeans']\n",
        "\n",
        "# --- مقیاس‌دهی ---\n",
        "scaler_X = MinMaxScaler()\n",
        "scaler_y = MinMaxScaler()\n",
        "\n",
        "X_scaled = scaler_X.fit_transform(final_df[features])\n",
        "y_scaled = scaler_y.fit_transform(final_df[[target]])\n",
        "\n",
        "# --- تقسیم داده ---\n",
        "X_train, X_test, y_train, y_test = train_test_split(\n",
        "    X_scaled, y_scaled, test_size=0.2, shuffle=False\n",
        ")\n",
        "\n",
        "# --- آماده‌سازی برای LSTM ---\n",
        "# اگر از LSTM با timesteps>1 استفاده کنیم:\n",
        "timesteps = 6  # می‌تونیم تغییر بدیم\n",
        "def create_lstm_data(X, y, timesteps=1):\n",
        "    Xs, ys = [], []\n",
        "    for i in range(len(X) - timesteps):\n",
        "        Xs.append(X[i:(i+timesteps)])\n",
        "        ys.append(y[i+timesteps])\n",
        "    return np.array(Xs), np.array(ys)\n",
        "\n",
        "X_train_lstm, y_train_lstm = create_lstm_data(X_train, y_train, timesteps)\n",
        "X_test_lstm, y_test_lstm = create_lstm_data(X_test, y_test, timesteps)\n",
        "\n",
        "print(\"Shapes:\")\n",
        "print(\"X_train:\", X_train_lstm.shape)\n",
        "print(\"y_train:\", y_train_lstm.shape)\n",
        "print(\"X_test:\", X_test_lstm.shape)\n",
        "print(\"y_test:\", y_test_lstm.shape)\n"
      ],
      "metadata": {
        "colab": {
          "base_uri": "https://localhost:8080/"
        },
        "id": "N9164QHO-sqf",
        "outputId": "594388bc-34c5-458e-b1f3-33e594c5efd4"
      },
      "execution_count": null,
      "outputs": [
        {
          "output_type": "stream",
          "name": "stdout",
          "text": [
            "Shapes:\n",
            "X_train: (240, 6, 9)\n",
            "y_train: (240, 1)\n",
            "X_test: (56, 6, 9)\n",
            "y_test: (56, 1)\n"
          ]
        }
      ]
    },
    {
      "cell_type": "code",
      "source": [
        "print(X_train.shape)\n"
      ],
      "metadata": {
        "colab": {
          "base_uri": "https://localhost:8080/"
        },
        "id": "MCErBHLD_F4e",
        "outputId": "7600b61b-151e-4116-e38b-822774e37954"
      },
      "execution_count": null,
      "outputs": [
        {
          "output_type": "stream",
          "name": "stdout",
          "text": [
            "(246, 9)\n"
          ]
        }
      ]
    },
    {
      "cell_type": "code",
      "source": [
        "X_train = X_train.reshape((X_train.shape[0], X_train.shape[1], 1))\n",
        "X_test  = X_test.reshape((X_test.shape[0], X_test.shape[1], 1))\n"
      ],
      "metadata": {
        "id": "QqcLEa7G_MsV"
      },
      "execution_count": null,
      "outputs": []
    },
    {
      "cell_type": "code",
      "source": [
        "model.add(LSTM(50, return_sequences=True, input_shape=(X_train.shape[1], X_train.shape[2])))\n"
      ],
      "metadata": {
        "colab": {
          "base_uri": "https://localhost:8080/"
        },
        "id": "mwSf1XTa_N2G",
        "outputId": "acedab54-b1ef-4a43-ddcb-764e1dce6038"
      },
      "execution_count": null,
      "outputs": [
        {
          "output_type": "stream",
          "name": "stderr",
          "text": [
            "/usr/local/lib/python3.12/dist-packages/keras/src/layers/rnn/rnn.py:199: UserWarning: Do not pass an `input_shape`/`input_dim` argument to a layer. When using Sequential models, prefer using an `Input(shape)` object as the first layer in the model instead.\n",
            "  super().__init__(**kwargs)\n"
          ]
        }
      ]
    },
    {
      "cell_type": "code",
      "source": [
        "import numpy as np\n",
        "from tensorflow.keras.models import Sequential\n",
        "from tensorflow.keras.layers import LSTM, Dropout, Dense\n",
        "\n",
        "# ==== تنظیم داده‌ها ====\n",
        "timesteps = 6  # تعداد زمان‌ها در هر نمونه\n",
        "features = X_train.shape[1]  # تعداد فیتچرها\n",
        "\n",
        "# مطمئن می‌شیم تعداد نمونه‌ها بر timesteps بخش‌پذیر باشه\n",
        "n_train = (X_train.shape[0] // timesteps) * timesteps\n",
        "n_test  = (X_test.shape[0]  // timesteps) * timesteps\n",
        "\n",
        "X_train = X_train[:n_train].reshape((n_train // timesteps, timesteps, features))\n",
        "y_train = y_train[:n_train].reshape((n_train // timesteps, timesteps, 1))[:, -1, :]  # فقط آخرین قدم\n",
        "X_test  = X_test[:n_test].reshape((n_test // timesteps, timesteps, features))\n",
        "y_test  = y_test[:n_test].reshape((n_test // timesteps, timesteps, 1))[:, -1, :]\n",
        "\n",
        "# ==== ساخت مدل LSTM ====\n",
        "model = Sequential()\n",
        "model.add(LSTM(50, return_sequences=True, input_shape=(timesteps, features)))\n",
        "model.add(Dropout(0.2))\n",
        "model.add(LSTM(25))\n",
        "model.add(Dropout(0.2))\n",
        "model.add(Dense(1))\n",
        "\n",
        "model.compile(optimizer='adam', loss='mse', metrics=['mae'])\n",
        "model.summary()\n"
      ],
      "metadata": {
        "colab": {
          "base_uri": "https://localhost:8080/",
          "height": 312
        },
        "id": "5hlxA1sO_X99",
        "outputId": "0bd9bda9-4105-4e43-8f54-0cb785ea2901"
      },
      "execution_count": null,
      "outputs": [
        {
          "output_type": "display_data",
          "data": {
            "text/plain": [
              "\u001b[1mModel: \"sequential_1\"\u001b[0m\n"
            ],
            "text/html": [
              "<pre style=\"white-space:pre;overflow-x:auto;line-height:normal;font-family:Menlo,'DejaVu Sans Mono',consolas,'Courier New',monospace\"><span style=\"font-weight: bold\">Model: \"sequential_1\"</span>\n",
              "</pre>\n"
            ]
          },
          "metadata": {}
        },
        {
          "output_type": "display_data",
          "data": {
            "text/plain": [
              "┏━━━━━━━━━━━━━━━━━━━━━━━━━━━━━━━━━┳━━━━━━━━━━━━━━━━━━━━━━━━┳━━━━━━━━━━━━━━━┓\n",
              "┃\u001b[1m \u001b[0m\u001b[1mLayer (type)                   \u001b[0m\u001b[1m \u001b[0m┃\u001b[1m \u001b[0m\u001b[1mOutput Shape          \u001b[0m\u001b[1m \u001b[0m┃\u001b[1m \u001b[0m\u001b[1m      Param #\u001b[0m\u001b[1m \u001b[0m┃\n",
              "┡━━━━━━━━━━━━━━━━━━━━━━━━━━━━━━━━━╇━━━━━━━━━━━━━━━━━━━━━━━━╇━━━━━━━━━━━━━━━┩\n",
              "│ lstm_1 (\u001b[38;5;33mLSTM\u001b[0m)                   │ (\u001b[38;5;45mNone\u001b[0m, \u001b[38;5;34m6\u001b[0m, \u001b[38;5;34m50\u001b[0m)          │        \u001b[38;5;34m12,000\u001b[0m │\n",
              "├─────────────────────────────────┼────────────────────────┼───────────────┤\n",
              "│ dropout (\u001b[38;5;33mDropout\u001b[0m)               │ (\u001b[38;5;45mNone\u001b[0m, \u001b[38;5;34m6\u001b[0m, \u001b[38;5;34m50\u001b[0m)          │             \u001b[38;5;34m0\u001b[0m │\n",
              "├─────────────────────────────────┼────────────────────────┼───────────────┤\n",
              "│ lstm_2 (\u001b[38;5;33mLSTM\u001b[0m)                   │ (\u001b[38;5;45mNone\u001b[0m, \u001b[38;5;34m25\u001b[0m)             │         \u001b[38;5;34m7,600\u001b[0m │\n",
              "├─────────────────────────────────┼────────────────────────┼───────────────┤\n",
              "│ dropout_1 (\u001b[38;5;33mDropout\u001b[0m)             │ (\u001b[38;5;45mNone\u001b[0m, \u001b[38;5;34m25\u001b[0m)             │             \u001b[38;5;34m0\u001b[0m │\n",
              "├─────────────────────────────────┼────────────────────────┼───────────────┤\n",
              "│ dense (\u001b[38;5;33mDense\u001b[0m)                   │ (\u001b[38;5;45mNone\u001b[0m, \u001b[38;5;34m1\u001b[0m)              │            \u001b[38;5;34m26\u001b[0m │\n",
              "└─────────────────────────────────┴────────────────────────┴───────────────┘\n"
            ],
            "text/html": [
              "<pre style=\"white-space:pre;overflow-x:auto;line-height:normal;font-family:Menlo,'DejaVu Sans Mono',consolas,'Courier New',monospace\">┏━━━━━━━━━━━━━━━━━━━━━━━━━━━━━━━━━┳━━━━━━━━━━━━━━━━━━━━━━━━┳━━━━━━━━━━━━━━━┓\n",
              "┃<span style=\"font-weight: bold\"> Layer (type)                    </span>┃<span style=\"font-weight: bold\"> Output Shape           </span>┃<span style=\"font-weight: bold\">       Param # </span>┃\n",
              "┡━━━━━━━━━━━━━━━━━━━━━━━━━━━━━━━━━╇━━━━━━━━━━━━━━━━━━━━━━━━╇━━━━━━━━━━━━━━━┩\n",
              "│ lstm_1 (<span style=\"color: #0087ff; text-decoration-color: #0087ff\">LSTM</span>)                   │ (<span style=\"color: #00d7ff; text-decoration-color: #00d7ff\">None</span>, <span style=\"color: #00af00; text-decoration-color: #00af00\">6</span>, <span style=\"color: #00af00; text-decoration-color: #00af00\">50</span>)          │        <span style=\"color: #00af00; text-decoration-color: #00af00\">12,000</span> │\n",
              "├─────────────────────────────────┼────────────────────────┼───────────────┤\n",
              "│ dropout (<span style=\"color: #0087ff; text-decoration-color: #0087ff\">Dropout</span>)               │ (<span style=\"color: #00d7ff; text-decoration-color: #00d7ff\">None</span>, <span style=\"color: #00af00; text-decoration-color: #00af00\">6</span>, <span style=\"color: #00af00; text-decoration-color: #00af00\">50</span>)          │             <span style=\"color: #00af00; text-decoration-color: #00af00\">0</span> │\n",
              "├─────────────────────────────────┼────────────────────────┼───────────────┤\n",
              "│ lstm_2 (<span style=\"color: #0087ff; text-decoration-color: #0087ff\">LSTM</span>)                   │ (<span style=\"color: #00d7ff; text-decoration-color: #00d7ff\">None</span>, <span style=\"color: #00af00; text-decoration-color: #00af00\">25</span>)             │         <span style=\"color: #00af00; text-decoration-color: #00af00\">7,600</span> │\n",
              "├─────────────────────────────────┼────────────────────────┼───────────────┤\n",
              "│ dropout_1 (<span style=\"color: #0087ff; text-decoration-color: #0087ff\">Dropout</span>)             │ (<span style=\"color: #00d7ff; text-decoration-color: #00d7ff\">None</span>, <span style=\"color: #00af00; text-decoration-color: #00af00\">25</span>)             │             <span style=\"color: #00af00; text-decoration-color: #00af00\">0</span> │\n",
              "├─────────────────────────────────┼────────────────────────┼───────────────┤\n",
              "│ dense (<span style=\"color: #0087ff; text-decoration-color: #0087ff\">Dense</span>)                   │ (<span style=\"color: #00d7ff; text-decoration-color: #00d7ff\">None</span>, <span style=\"color: #00af00; text-decoration-color: #00af00\">1</span>)              │            <span style=\"color: #00af00; text-decoration-color: #00af00\">26</span> │\n",
              "└─────────────────────────────────┴────────────────────────┴───────────────┘\n",
              "</pre>\n"
            ]
          },
          "metadata": {}
        },
        {
          "output_type": "display_data",
          "data": {
            "text/plain": [
              "\u001b[1m Total params: \u001b[0m\u001b[38;5;34m19,626\u001b[0m (76.66 KB)\n"
            ],
            "text/html": [
              "<pre style=\"white-space:pre;overflow-x:auto;line-height:normal;font-family:Menlo,'DejaVu Sans Mono',consolas,'Courier New',monospace\"><span style=\"font-weight: bold\"> Total params: </span><span style=\"color: #00af00; text-decoration-color: #00af00\">19,626</span> (76.66 KB)\n",
              "</pre>\n"
            ]
          },
          "metadata": {}
        },
        {
          "output_type": "display_data",
          "data": {
            "text/plain": [
              "\u001b[1m Trainable params: \u001b[0m\u001b[38;5;34m19,626\u001b[0m (76.66 KB)\n"
            ],
            "text/html": [
              "<pre style=\"white-space:pre;overflow-x:auto;line-height:normal;font-family:Menlo,'DejaVu Sans Mono',consolas,'Courier New',monospace\"><span style=\"font-weight: bold\"> Trainable params: </span><span style=\"color: #00af00; text-decoration-color: #00af00\">19,626</span> (76.66 KB)\n",
              "</pre>\n"
            ]
          },
          "metadata": {}
        },
        {
          "output_type": "display_data",
          "data": {
            "text/plain": [
              "\u001b[1m Non-trainable params: \u001b[0m\u001b[38;5;34m0\u001b[0m (0.00 B)\n"
            ],
            "text/html": [
              "<pre style=\"white-space:pre;overflow-x:auto;line-height:normal;font-family:Menlo,'DejaVu Sans Mono',consolas,'Courier New',monospace\"><span style=\"font-weight: bold\"> Non-trainable params: </span><span style=\"color: #00af00; text-decoration-color: #00af00\">0</span> (0.00 B)\n",
              "</pre>\n"
            ]
          },
          "metadata": {}
        }
      ]
    },
    {
      "cell_type": "code",
      "source": [
        "from tensorflow.keras.models import Sequential\n",
        "from tensorflow.keras.layers import LSTM, Dropout, Dense\n",
        "from tensorflow.keras.optimizers import Adam\n",
        "from sklearn.metrics import mean_squared_error, mean_absolute_error, r2_score\n",
        "import numpy as np\n",
        "\n",
        "# مدل آماده است (همون مدل شما)\n",
        "model.compile(optimizer=Adam(learning_rate=0.001), loss='mse')\n",
        "\n",
        "# آموزش مدل\n",
        "history = model.fit(X_train, y_train, epochs=50, batch_size=16, validation_split=0.1, verbose=2)\n",
        "\n",
        "# پیش‌بینی روی داده تست\n",
        "y_pred = model.predict(X_test)\n",
        "\n",
        "# ارزیابی\n",
        "rmse = np.sqrt(mean_squared_error(y_test, y_pred))\n",
        "mae = mean_absolute_error(y_test, y_pred)\n",
        "r2 = r2_score(y_test, y_pred)\n",
        "\n",
        "print(f\"R²: {r2:.4f}\")\n",
        "print(f\"MAE: {mae:.4f}\")\n",
        "print(f\"RMSE: {rmse:.4f}\")\n"
      ],
      "metadata": {
        "colab": {
          "base_uri": "https://localhost:8080/"
        },
        "id": "5qA2QPzD_75M",
        "outputId": "d808d272-173c-4d94-af33-fed137307b5d"
      },
      "execution_count": null,
      "outputs": [
        {
          "output_type": "stream",
          "name": "stdout",
          "text": [
            "Epoch 1/50\n",
            "3/3 - 5s - 2s/step - loss: 0.0148 - mae: 0.1020 - val_loss: 0.0137 - val_mae: 0.1031\n",
            "Epoch 2/50\n",
            "3/3 - 0s - 36ms/step - loss: 0.0032 - mae: 0.0465 - val_loss: 0.0041 - val_mae: 0.0569\n",
            "Epoch 3/50\n",
            "3/3 - 0s - 33ms/step - loss: 0.0078 - mae: 0.0756 - val_loss: 0.0041 - val_mae: 0.0569\n",
            "Epoch 4/50\n",
            "3/3 - 0s - 35ms/step - loss: 0.0074 - mae: 0.0678 - val_loss: 0.0068 - val_mae: 0.0593\n",
            "Epoch 5/50\n",
            "3/3 - 0s - 33ms/step - loss: 0.0047 - mae: 0.0546 - val_loss: 0.0181 - val_mae: 0.1241\n",
            "Epoch 6/50\n",
            "3/3 - 0s - 47ms/step - loss: 0.0047 - mae: 0.0558 - val_loss: 0.0241 - val_mae: 0.1468\n",
            "Epoch 7/50\n",
            "3/3 - 0s - 35ms/step - loss: 0.0055 - mae: 0.0623 - val_loss: 0.0197 - val_mae: 0.1308\n",
            "Epoch 8/50\n",
            "3/3 - 0s - 33ms/step - loss: 0.0060 - mae: 0.0622 - val_loss: 0.0122 - val_mae: 0.0969\n",
            "Epoch 9/50\n",
            "3/3 - 0s - 33ms/step - loss: 0.0043 - mae: 0.0492 - val_loss: 0.0076 - val_mae: 0.0674\n",
            "Epoch 10/50\n",
            "3/3 - 0s - 35ms/step - loss: 0.0035 - mae: 0.0477 - val_loss: 0.0056 - val_mae: 0.0514\n",
            "Epoch 11/50\n",
            "3/3 - 0s - 34ms/step - loss: 0.0025 - mae: 0.0399 - val_loss: 0.0050 - val_mae: 0.0489\n",
            "Epoch 12/50\n",
            "3/3 - 0s - 34ms/step - loss: 0.0035 - mae: 0.0488 - val_loss: 0.0057 - val_mae: 0.0518\n",
            "Epoch 13/50\n",
            "3/3 - 0s - 46ms/step - loss: 0.0027 - mae: 0.0420 - val_loss: 0.0074 - val_mae: 0.0668\n",
            "Epoch 14/50\n",
            "3/3 - 0s - 34ms/step - loss: 0.0024 - mae: 0.0378 - val_loss: 0.0097 - val_mae: 0.0835\n",
            "Epoch 15/50\n",
            "3/3 - 0s - 47ms/step - loss: 0.0030 - mae: 0.0417 - val_loss: 0.0118 - val_mae: 0.0960\n",
            "Epoch 16/50\n",
            "3/3 - 0s - 33ms/step - loss: 0.0046 - mae: 0.0513 - val_loss: 0.0116 - val_mae: 0.0951\n",
            "Epoch 17/50\n",
            "3/3 - 0s - 33ms/step - loss: 0.0030 - mae: 0.0438 - val_loss: 0.0097 - val_mae: 0.0842\n",
            "Epoch 18/50\n",
            "3/3 - 0s - 48ms/step - loss: 0.0033 - mae: 0.0452 - val_loss: 0.0070 - val_mae: 0.0657\n",
            "Epoch 19/50\n",
            "3/3 - 0s - 33ms/step - loss: 0.0036 - mae: 0.0517 - val_loss: 0.0057 - val_mae: 0.0543\n",
            "Epoch 20/50\n",
            "3/3 - 0s - 47ms/step - loss: 0.0022 - mae: 0.0384 - val_loss: 0.0061 - val_mae: 0.0585\n",
            "Epoch 21/50\n",
            "3/3 - 0s - 33ms/step - loss: 0.0029 - mae: 0.0453 - val_loss: 0.0063 - val_mae: 0.0604\n",
            "Epoch 22/50\n",
            "3/3 - 0s - 46ms/step - loss: 0.0031 - mae: 0.0465 - val_loss: 0.0066 - val_mae: 0.0638\n",
            "Epoch 23/50\n",
            "3/3 - 0s - 62ms/step - loss: 0.0030 - mae: 0.0451 - val_loss: 0.0059 - val_mae: 0.0577\n",
            "Epoch 24/50\n",
            "3/3 - 0s - 33ms/step - loss: 0.0025 - mae: 0.0413 - val_loss: 0.0056 - val_mae: 0.0551\n",
            "Epoch 25/50\n",
            "3/3 - 0s - 46ms/step - loss: 0.0031 - mae: 0.0439 - val_loss: 0.0057 - val_mae: 0.0564\n",
            "Epoch 26/50\n",
            "3/3 - 0s - 46ms/step - loss: 0.0023 - mae: 0.0372 - val_loss: 0.0052 - val_mae: 0.0512\n",
            "Epoch 27/50\n",
            "3/3 - 0s - 45ms/step - loss: 0.0018 - mae: 0.0328 - val_loss: 0.0058 - val_mae: 0.0577\n",
            "Epoch 28/50\n",
            "3/3 - 0s - 45ms/step - loss: 0.0027 - mae: 0.0417 - val_loss: 0.0056 - val_mae: 0.0565\n",
            "Epoch 29/50\n",
            "3/3 - 0s - 36ms/step - loss: 0.0020 - mae: 0.0368 - val_loss: 0.0055 - val_mae: 0.0561\n",
            "Epoch 30/50\n",
            "3/3 - 0s - 33ms/step - loss: 0.0018 - mae: 0.0327 - val_loss: 0.0053 - val_mae: 0.0543\n",
            "Epoch 31/50\n",
            "3/3 - 0s - 46ms/step - loss: 0.0025 - mae: 0.0393 - val_loss: 0.0042 - val_mae: 0.0441\n",
            "Epoch 32/50\n",
            "3/3 - 0s - 35ms/step - loss: 0.0022 - mae: 0.0381 - val_loss: 0.0032 - val_mae: 0.0413\n",
            "Epoch 33/50\n",
            "3/3 - 0s - 33ms/step - loss: 0.0021 - mae: 0.0368 - val_loss: 0.0033 - val_mae: 0.0414\n",
            "Epoch 34/50\n",
            "3/3 - 0s - 33ms/step - loss: 0.0015 - mae: 0.0331 - val_loss: 0.0037 - val_mae: 0.0423\n",
            "Epoch 35/50\n",
            "3/3 - 0s - 34ms/step - loss: 0.0024 - mae: 0.0367 - val_loss: 0.0043 - val_mae: 0.0450\n",
            "Epoch 36/50\n",
            "3/3 - 0s - 32ms/step - loss: 0.0025 - mae: 0.0388 - val_loss: 0.0029 - val_mae: 0.0403\n",
            "Epoch 37/50\n",
            "3/3 - 0s - 34ms/step - loss: 0.0019 - mae: 0.0339 - val_loss: 0.0026 - val_mae: 0.0412\n",
            "Epoch 38/50\n",
            "3/3 - 0s - 33ms/step - loss: 0.0028 - mae: 0.0405 - val_loss: 0.0027 - val_mae: 0.0399\n",
            "Epoch 39/50\n",
            "3/3 - 0s - 32ms/step - loss: 0.0019 - mae: 0.0365 - val_loss: 0.0057 - val_mae: 0.0593\n",
            "Epoch 40/50\n",
            "3/3 - 0s - 52ms/step - loss: 0.0015 - mae: 0.0313 - val_loss: 0.0058 - val_mae: 0.0608\n",
            "Epoch 41/50\n",
            "3/3 - 0s - 32ms/step - loss: 0.0017 - mae: 0.0339 - val_loss: 0.0045 - val_mae: 0.0486\n",
            "Epoch 42/50\n",
            "3/3 - 0s - 46ms/step - loss: 0.0021 - mae: 0.0363 - val_loss: 0.0027 - val_mae: 0.0390\n",
            "Epoch 43/50\n",
            "3/3 - 0s - 47ms/step - loss: 0.0021 - mae: 0.0333 - val_loss: 0.0023 - val_mae: 0.0375\n",
            "Epoch 44/50\n",
            "3/3 - 0s - 33ms/step - loss: 0.0022 - mae: 0.0363 - val_loss: 0.0024 - val_mae: 0.0373\n",
            "Epoch 45/50\n",
            "3/3 - 0s - 47ms/step - loss: 0.0016 - mae: 0.0311 - val_loss: 0.0025 - val_mae: 0.0378\n",
            "Epoch 46/50\n",
            "3/3 - 0s - 35ms/step - loss: 0.0014 - mae: 0.0290 - val_loss: 0.0030 - val_mae: 0.0389\n",
            "Epoch 47/50\n",
            "3/3 - 0s - 45ms/step - loss: 0.0015 - mae: 0.0305 - val_loss: 0.0033 - val_mae: 0.0396\n",
            "Epoch 48/50\n",
            "3/3 - 0s - 40ms/step - loss: 0.0020 - mae: 0.0365 - val_loss: 0.0032 - val_mae: 0.0392\n",
            "Epoch 49/50\n",
            "3/3 - 0s - 40ms/step - loss: 0.0024 - mae: 0.0360 - val_loss: 0.0023 - val_mae: 0.0363\n",
            "Epoch 50/50\n",
            "3/3 - 0s - 33ms/step - loss: 0.0017 - mae: 0.0346 - val_loss: 0.0025 - val_mae: 0.0445\n",
            "\u001b[1m1/1\u001b[0m \u001b[32m━━━━━━━━━━━━━━━━━━━━\u001b[0m\u001b[37m\u001b[0m \u001b[1m0s\u001b[0m 286ms/step\n",
            "R²: 0.5229\n",
            "MAE: 0.0781\n",
            "RMSE: 0.1106\n"
          ]
        }
      ]
    },
    {
      "cell_type": "code",
      "source": [
        "import pandas as pd\n",
        "import numpy as np\n",
        "from sklearn.preprocessing import MinMaxScaler\n",
        "from tensorflow.keras.models import Sequential\n",
        "from tensorflow.keras.layers import LSTM, Dense, Dropout\n",
        "from sklearn.metrics import r2_score, mean_absolute_error, mean_squared_error\n",
        "\n",
        "# --- دیتاست ---\n",
        "# فرض: final_df آماده و بدون NaN است\n",
        "cols_to_predict = ['Urea_Global', 'Corn', 'Wheat', 'Soybeans']\n",
        "results = {}\n",
        "\n",
        "timesteps = 6\n",
        "\n",
        "for target in cols_to_predict:\n",
        "    # انتخاب ویژگی‌ها (می‌تونی همه غیر از target و Date رو انتخاب کنی)\n",
        "    features = [col for col in final_df.columns if col not in ['Date', target]]\n",
        "\n",
        "    data = final_df[features + [target]].copy()\n",
        "\n",
        "    # نرمال‌سازی\n",
        "    scaler = MinMaxScaler()\n",
        "    scaled_data = scaler.fit_transform(data)\n",
        "\n",
        "    X, y = [], []\n",
        "    for i in range(timesteps, len(scaled_data)):\n",
        "        X.append(scaled_data[i-timesteps:i, :-1])\n",
        "        y.append(scaled_data[i, -1])\n",
        "\n",
        "    X, y = np.array(X), np.array(y)\n",
        "\n",
        "    # تقسیم Train/Test\n",
        "    split = int(len(X)*0.8)\n",
        "    X_train, X_test = X[:split], X[split:]\n",
        "    y_train, y_test = y[:split], y[split:]\n",
        "\n",
        "    # مدل LSTM\n",
        "    model = Sequential()\n",
        "    model.add(LSTM(50, return_sequences=True, input_shape=(X_train.shape[1], X_train.shape[2])))\n",
        "    model.add(Dropout(0.2))\n",
        "    model.add(LSTM(25))\n",
        "    model.add(Dropout(0.2))\n",
        "    model.add(Dense(1))\n",
        "\n",
        "    model.compile(optimizer='adam', loss='mse', metrics=['mae'])\n",
        "\n",
        "    # آموزش\n",
        "    model.fit(X_train, y_train, epochs=50, batch_size=16, validation_data=(X_test, y_test), verbose=0)\n",
        "\n",
        "    # پیش‌بینی و ارزیابی\n",
        "    y_pred = model.predict(X_test)\n",
        "    r2 = r2_score(y_test, y_pred)\n",
        "    mae = mean_absolute_error(y_test, y_pred)\n",
        "    rmse = np.sqrt(mean_squared_error(y_test, y_pred))\n",
        "\n",
        "    results[target] = {'r2': r2, 'mae': mae, 'rmse': rmse, 'predictions': y_pred}\n",
        "\n",
        "# نمایش نتایج\n",
        "for target, metrics in results.items():\n",
        "    print(f\"{target}: R²={metrics['r2']:.3f}, MAE={metrics['mae']:.3f}, RMSE={metrics['rmse']:.3f}\")\n"
      ],
      "metadata": {
        "colab": {
          "base_uri": "https://localhost:8080/"
        },
        "id": "EH5v20N5Cisn",
        "outputId": "7b84d4df-7db1-46c8-ee7b-0535577974cc"
      },
      "execution_count": null,
      "outputs": [
        {
          "output_type": "stream",
          "name": "stderr",
          "text": [
            "/usr/local/lib/python3.12/dist-packages/keras/src/layers/rnn/rnn.py:199: UserWarning: Do not pass an `input_shape`/`input_dim` argument to a layer. When using Sequential models, prefer using an `Input(shape)` object as the first layer in the model instead.\n",
            "  super().__init__(**kwargs)\n"
          ]
        },
        {
          "output_type": "stream",
          "name": "stdout",
          "text": [
            "\u001b[1m2/2\u001b[0m \u001b[32m━━━━━━━━━━━━━━━━━━━━\u001b[0m\u001b[37m\u001b[0m \u001b[1m1s\u001b[0m 282ms/step\n"
          ]
        },
        {
          "output_type": "stream",
          "name": "stderr",
          "text": [
            "/usr/local/lib/python3.12/dist-packages/keras/src/layers/rnn/rnn.py:199: UserWarning: Do not pass an `input_shape`/`input_dim` argument to a layer. When using Sequential models, prefer using an `Input(shape)` object as the first layer in the model instead.\n",
            "  super().__init__(**kwargs)\n"
          ]
        },
        {
          "output_type": "stream",
          "name": "stdout",
          "text": [
            "\r\u001b[1m1/2\u001b[0m \u001b[32m━━━━━━━━━━\u001b[0m\u001b[37m━━━━━━━━━━\u001b[0m \u001b[1m0s\u001b[0m 272ms/step"
          ]
        },
        {
          "output_type": "stream",
          "name": "stderr",
          "text": [
            "WARNING:tensorflow:5 out of the last 5 calls to <function TensorFlowTrainer.make_predict_function.<locals>.one_step_on_data_distributed at 0x79d21160ba60> triggered tf.function retracing. Tracing is expensive and the excessive number of tracings could be due to (1) creating @tf.function repeatedly in a loop, (2) passing tensors with different shapes, (3) passing Python objects instead of tensors. For (1), please define your @tf.function outside of the loop. For (2), @tf.function has reduce_retracing=True option that can avoid unnecessary retracing. For (3), please refer to https://www.tensorflow.org/guide/function#controlling_retracing and https://www.tensorflow.org/api_docs/python/tf/function for  more details.\n"
          ]
        },
        {
          "output_type": "stream",
          "name": "stdout",
          "text": [
            "\u001b[1m2/2\u001b[0m \u001b[32m━━━━━━━━━━━━━━━━━━━━\u001b[0m\u001b[37m\u001b[0m \u001b[1m1s\u001b[0m 281ms/step\n"
          ]
        },
        {
          "output_type": "stream",
          "name": "stderr",
          "text": [
            "/usr/local/lib/python3.12/dist-packages/keras/src/layers/rnn/rnn.py:199: UserWarning: Do not pass an `input_shape`/`input_dim` argument to a layer. When using Sequential models, prefer using an `Input(shape)` object as the first layer in the model instead.\n",
            "  super().__init__(**kwargs)\n",
            "WARNING:tensorflow:6 out of the last 6 calls to <function TensorFlowTrainer.make_predict_function.<locals>.one_step_on_data_distributed at 0x79d2112eb420> triggered tf.function retracing. Tracing is expensive and the excessive number of tracings could be due to (1) creating @tf.function repeatedly in a loop, (2) passing tensors with different shapes, (3) passing Python objects instead of tensors. For (1), please define your @tf.function outside of the loop. For (2), @tf.function has reduce_retracing=True option that can avoid unnecessary retracing. For (3), please refer to https://www.tensorflow.org/guide/function#controlling_retracing and https://www.tensorflow.org/api_docs/python/tf/function for  more details.\n"
          ]
        },
        {
          "output_type": "stream",
          "name": "stdout",
          "text": [
            "\u001b[1m2/2\u001b[0m \u001b[32m━━━━━━━━━━━━━━━━━━━━\u001b[0m\u001b[37m\u001b[0m \u001b[1m1s\u001b[0m 401ms/step\n"
          ]
        },
        {
          "output_type": "stream",
          "name": "stderr",
          "text": [
            "/usr/local/lib/python3.12/dist-packages/keras/src/layers/rnn/rnn.py:199: UserWarning: Do not pass an `input_shape`/`input_dim` argument to a layer. When using Sequential models, prefer using an `Input(shape)` object as the first layer in the model instead.\n",
            "  super().__init__(**kwargs)\n"
          ]
        },
        {
          "output_type": "stream",
          "name": "stdout",
          "text": [
            "\u001b[1m2/2\u001b[0m \u001b[32m━━━━━━━━━━━━━━━━━━━━\u001b[0m\u001b[37m\u001b[0m \u001b[1m1s\u001b[0m 281ms/step\n",
            "Urea_Global: R²=0.436, MAE=0.084, RMSE=0.126\n",
            "Corn: R²=-2.571, MAE=0.179, RMSE=0.264\n",
            "Wheat: R²=-1.582, MAE=0.142, RMSE=0.204\n",
            "Soybeans: R²=-6.475, MAE=0.170, RMSE=0.264\n"
          ]
        }
      ]
    }
  ]
}